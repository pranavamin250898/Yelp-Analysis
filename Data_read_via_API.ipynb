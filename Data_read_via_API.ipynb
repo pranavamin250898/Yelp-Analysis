{
 "cells": [
  {
   "cell_type": "code",
   "execution_count": 3,
   "id": "79b448b4-bf89-40e1-937f-04d1bb7a9408",
   "metadata": {},
   "outputs": [
    {
     "name": "stdout",
     "output_type": "stream",
     "text": [
      "{\"document\":{\"_id\":\"640a8607e7247a8d1516a41a\"}}\n"
     ]
    }
   ],
   "source": [
    "import requests\n",
    "import json\n",
    "url = \"https://eastus2.azure.data.mongodb-api.com/app/data-vvxgo/endpoint/data/v1/action/findOne\"\n",
    "\n",
    "payload = json.dumps({\n",
    "    \"collection\": \"reviews\",\n",
    "    \"database\": \"yelpcluster\",\n",
    "    \"dataSource\": \"Cluster0\",\n",
    "    \"projection\": {\n",
    "        \"_id\": 1\n",
    "    }\n",
    "})\n",
    "headers = {\n",
    "  'Content-Type': 'application/json',\n",
    "  'Access-Control-Request-Headers': '*',\n",
    "  'api-key': \"4JQhNANa2mfMC9lFuCTHn0NPjPSgmO7mfx5IOwIXyQKmA0JkwtOiRhjFh3L3ZhX0\", \n",
    "}\n",
    "\n",
    "response = requests.request(\"POST\", url, headers=headers, data=payload)\n",
    "\n",
    "print(response.text)\n"
   ]
  },
  {
   "cell_type": "code",
   "execution_count": 8,
   "id": "112db99c-ba9e-4f02-8f94-572a77a104e4",
   "metadata": {},
   "outputs": [
    {
     "name": "stdout",
     "output_type": "stream",
     "text": [
      "{\"documents\":[{\"_id\":\"640a8607e7247a8d1516a41a\",\"user_id\":\"AGNUgVwnZUey3gcPCJ76iw\",\"business_id\":\"3uLgwr0qeCNMjKenHJwPGQ\",\"text\":\"Avengers time with the ladies.\",\"date\":\"2012-05-18 02:17:21\",\"compliment_count\":0},{\"_id\":\"640a8607e7247a8d1516a41b\",\"user_id\":\"NBN4MgHP9D3cw--SnauTkA\",\"business_id\":\"QoezRbYQncpRqyrLH6Iqjg\",\"text\":\"They have lots of good deserts and tasty cuban sandwiches\",\"date\":\"2013-02-05 18:35:10\",\"compliment_count\":0},{\"_id\":\"640a8607e7247a8d1516a41c\",\"user_id\":\"-copOvldyKh1qr-vzkDEvw\",\"business_id\":\"MYoRNLb5chwjQe3c_k37Gg\",\"text\":\"It's open even when you think it isn't\",\"date\":\"2013-08-18 00:56:08\",\"compliment_count\":0},{\"_id\":\"640a8607e7247a8d1516a41d\",\"user_id\":\"FjMQVZjSqY8syIO-53KFKw\",\"business_id\":\"hV-bABTK-glh5wj31ps_Jw\",\"text\":\"Very decent fried chicken\",\"date\":\"2017-06-27 23:05:38\",\"compliment_count\":0},{\"_id\":\"640a8607e7247a8d1516a41e\",\"user_id\":\"ld0AperBXk1h6UbqmM80zw\",\"business_id\":\"_uN0OudeJ3Zl_tf6nxg5ww\",\"text\":\"Appetizers.. platter special for lunch\",\"date\":\"2012-10-06 19:43:09\",\"compliment_count\":0},{\"_id\":\"640a8607e7247a8d1516a41f\",\"user_id\":\"trf3Qcz8qvCDKXiTgjUcEg\",\"business_id\":\"7Rm9Ba50bw23KTA8RedZYg\",\"text\":\"Chili Cup + Single Cheeseburger with onion, pickle, and relish + Vanilla Coca-Cola...so far.\",\"date\":\"2012-03-13 04:00:52\",\"compliment_count\":0},{\"_id\":\"640a8607e7247a8d1516a420\",\"user_id\":\"SMGAlRjyfuYu-c-22zIyOg\",\"business_id\":\"kH-0iXqkL7b8UXNpguBMKg\",\"text\":\"Saturday, Dec 7th 2013, ride Patco's Silver Sleigh w/ Santa \\u0026 his elves on a decorated train into Center City. Trains leave from Lindenwold at 10am, 11:15am, \\u0026 12:30pm, and make all stops. Great for kids!\",\"date\":\"2013-12-03 23:42:15\",\"compliment_count\":0},{\"_id\":\"640a8607e7247a8d1516a421\",\"user_id\":\"YVBB9g23nuVJ0u44zK0pSA\",\"business_id\":\"jtri188kuhe_AuEOJ51U_A\",\"text\":\"This is probably the best place in the cool Springs area to watch a game and eat\",\"date\":\"2016-11-22 22:14:58\",\"compliment_count\":0},{\"_id\":\"640a8607e7247a8d1516a422\",\"user_id\":\"VL12EhEdT4OWqGq0nIqkzw\",\"business_id\":\"xODBZmX4EmlVvbqtKN7YKg\",\"text\":\"Tacos\",\"date\":\"2012-07-27 01:48:24\",\"compliment_count\":0},{\"_id\":\"640a8607e7247a8d1516a423\",\"user_id\":\"4ay-fdVks5WMerYL_htkGQ\",\"business_id\":\"pICJRcyqW1cF96Q3XhLSbw\",\"text\":\"Starbucks substitute in boring downtown Tampa. Ugh. Never again!\",\"date\":\"2012-06-09 22:57:04\",\"compliment_count\":0}]}\n"
     ]
    }
   ],
   "source": [
    "import requests\n",
    "import json\n",
    "url = \"https://eastus2.azure.data.mongodb-api.com/app/data-vvxgo/endpoint/data/v1/action/find\"\n",
    "\n",
    "payload = json.dumps({\n",
    "    \"collection\": \"reviews\",\n",
    "    \"database\": \"yelpcluster\",\n",
    "    \"dataSource\": \"Cluster0\",\n",
    "    \n",
    "      \"limit\": 10\n",
    "})\n",
    "headers = {\n",
    "  'Content-Type': 'application/json',\n",
    "  'Access-Control-Request-Headers': '*',\n",
    "  'api-key': \"4JQhNANa2mfMC9lFuCTHn0NPjPSgmO7mfx5IOwIXyQKmA0JkwtOiRhjFh3L3ZhX0\", \n",
    "}\n",
    "\n",
    "response = requests.request(\"POST\", url, headers=headers, data=payload)\n",
    "\n",
    "print(response.text)\n"
   ]
  },
  {
   "cell_type": "code",
   "execution_count": null,
   "id": "dd60ab55-de4c-4689-8582-0768ab0c78b6",
   "metadata": {},
   "outputs": [],
   "source": []
  }
 ],
 "metadata": {
  "kernelspec": {
   "display_name": "Python 3",
   "language": "python",
   "name": "python3"
  },
  "language_info": {
   "codemirror_mode": {
    "name": "ipython",
    "version": 3
   },
   "file_extension": ".py",
   "mimetype": "text/x-python",
   "name": "python",
   "nbconvert_exporter": "python",
   "pygments_lexer": "ipython3",
   "version": "3.8.8"
  }
 },
 "nbformat": 4,
 "nbformat_minor": 5
}
